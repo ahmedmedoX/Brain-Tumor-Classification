{
  "cells": [
    {
      "cell_type": "markdown",
      "metadata": {
        "id": "view-in-github",
        "colab_type": "text"
      },
      "source": [
        "<a href=\"https://colab.research.google.com/github/ahmedmedoX/Brain-Tumor-Classification/blob/main/Brain_Tumor_Classification_V1_1.ipynb\" target=\"_parent\"><img src=\"https://colab.research.google.com/assets/colab-badge.svg\" alt=\"Open In Colab\"/></a>"
      ]
    },
    {
      "cell_type": "markdown",
      "metadata": {
        "id": "7Xdt6Sh4iH9P"
      },
      "source": [
        "## **Libraries**"
      ]
    },
    {
      "cell_type": "code",
      "execution_count": 1,
      "metadata": {
        "id": "6zfUVohTiLxK"
      },
      "outputs": [],
      "source": [
        "import os\n",
        "import cv2\n",
        "import math\n",
        "import numpy as np\n",
        "import pandas as pd\n",
        "import matplotlib.pyplot as plt\n",
        "from google.colab.patches import cv2_imshow\n",
        "from google.colab import drive\n",
        "from sklearn.model_selection import train_test_split\n",
        "from sklearn.tree import DecisionTreeClassifier\n",
        "from sklearn.metrics import classification_report, confusion_matrix\n",
        "from sklearn import metrics"
      ]
    },
    {
      "cell_type": "markdown",
      "metadata": {
        "id": "x4hGKCCnuobW"
      },
      "source": [
        "## Calculate Third Moment (Skewness)"
      ]
    },
    {
      "cell_type": "code",
      "execution_count": 2,
      "metadata": {
        "id": "cWzPmHV1uQdp"
      },
      "outputs": [],
      "source": [
        "def calculate_third_moment(image):\n",
        "    pixels = np.array(image).flatten()\n",
        "    mean = np.mean(pixels)\n",
        "    std_dev = np.std(pixels)\n",
        "    third_moment = np.mean(((pixels - mean) / std_dev) ** 3)\n",
        "    return third_moment"
      ]
    },
    {
      "cell_type": "markdown",
      "metadata": {
        "id": "r4rmG9M1P3EJ"
      },
      "source": [
        "## Calculate Contrast"
      ]
    },
    {
      "cell_type": "code",
      "execution_count": 3,
      "metadata": {
        "id": "c5u0hL5JP88U"
      },
      "outputs": [],
      "source": [
        "def calculate_average_contrast(image):\n",
        "    contrast = np.abs(image - np.mean(image))\n",
        "    average_contrast = np.mean(contrast)\n",
        "    return average_contrast"
      ]
    },
    {
      "cell_type": "markdown",
      "metadata": {
        "id": "glqEypOLQu-T"
      },
      "source": [
        "## Calculate Smoothness"
      ]
    },
    {
      "cell_type": "code",
      "execution_count": 4,
      "metadata": {
        "id": "lNXrmwd7Qxm8"
      },
      "outputs": [],
      "source": [
        "def calculate_smoothness(image):\n",
        "    dx = np.abs(np.diff(image, axis=1))\n",
        "    dy = np.abs(np.diff(image, axis=0))\n",
        "    smoothness = (np.mean(dx) + np.mean(dy)) / 2\n",
        "    return smoothness"
      ]
    },
    {
      "cell_type": "markdown",
      "metadata": {
        "id": "3LIB1C6xvMNa"
      },
      "source": [
        "## Calculate Entropy"
      ]
    },
    {
      "cell_type": "code",
      "execution_count": 5,
      "metadata": {
        "id": "UQjcakavXoit"
      },
      "outputs": [],
      "source": [
        "def calculate_entropy(image):\n",
        "    histogram=cv2.calcHist([image],[0],None,[256],[0,256])\n",
        "    total_pixels = image.shape[0] * image.shape[1]\n",
        "    entropy = 0\n",
        "    for count in histogram:\n",
        "        probability = count / total_pixels\n",
        "        if probability > 0:\n",
        "            entropy += probability * math.log2(probability)\n",
        "    entropy *= -1\n",
        "    return entropy"
      ]
    },
    {
      "cell_type": "markdown",
      "metadata": {
        "id": "3ED6CW3sweGA"
      },
      "source": [
        "## Calculate Intensity"
      ]
    },
    {
      "cell_type": "code",
      "execution_count": 6,
      "metadata": {
        "id": "bNQBWrakwIPe"
      },
      "outputs": [],
      "source": [
        "def calculate_intensity(image):\n",
        "    pixels = np.array(image)\n",
        "    intensity = np.mean(pixels)\n",
        "    return intensity"
      ]
    },
    {
      "cell_type": "markdown",
      "metadata": {
        "id": "6qX9iug-iUqF"
      },
      "source": [
        "## Segmentation"
      ]
    },
    {
      "cell_type": "code",
      "execution_count": 7,
      "metadata": {
        "id": "VoTzD7qd9m5s"
      },
      "outputs": [],
      "source": [
        "def Binary_Threshold(image):\n",
        "  image_gray = cv2.cvtColor(image, cv2.COLOR_BGR2GRAY)\n",
        "  B_Threshold=cv2.threshold(image_gray,125,255,cv2.THRESH_BINARY)\n",
        "  return B_Threshold"
      ]
    },
    {
      "cell_type": "markdown",
      "metadata": {
        "id": "_XmyrHDkwh-Q"
      },
      "source": [
        "## Read Images"
      ]
    },
    {
      "cell_type": "code",
      "execution_count": 8,
      "metadata": {
        "id": "SdWlaelAWYMX"
      },
      "outputs": [],
      "source": [
        "Images_No_Path = '/content/No'\n",
        "Images_Yes_Path = '/content/Yes'\n",
        "\n",
        "Images_No=[]\n",
        "Images_Yes=[]\n",
        "\n",
        "File_Names= os.listdir(Images_No_Path)\n",
        "for i in File_Names:\n",
        "  Images_No.append(cv2.imread(Images_No_Path+'/'+i))\n",
        "\n",
        "File_Names= os.listdir(Images_Yes_Path)\n",
        "for i in File_Names:\n",
        "  Images_Yes.append(cv2.imread(Images_Yes_Path+'/'+i))"
      ]
    },
    {
      "cell_type": "markdown",
      "metadata": {
        "id": "137Gv1RNSovs"
      },
      "source": [
        "## Store Features"
      ]
    },
    {
      "cell_type": "code",
      "execution_count": 9,
      "metadata": {
        "id": "NwaK1UYSStvG",
        "colab": {
          "base_uri": "https://localhost:8080/"
        },
        "outputId": "ba710b90-050b-425e-bfbf-cbdda7825d5d"
      },
      "outputs": [
        {
          "output_type": "stream",
          "name": "stderr",
          "text": [
            "<ipython-input-5-3d26f5294651>:8: DeprecationWarning: Conversion of an array with ndim > 0 to a scalar is deprecated, and will error in future. Ensure you extract a single element from your array before performing this operation. (Deprecated NumPy 1.25.)\n",
            "  entropy += probability * math.log2(probability)\n"
          ]
        }
      ],
      "source": [
        "Features={'Entropy':[],\n",
        "         'Third Moment':[],\n",
        "         'Intensity':[],\n",
        "         'Contrast':[],\n",
        "         'Smoothness':[],\n",
        "         'Class':[]} #Yes or No\n",
        "\n",
        "Processed_Images_No=[]\n",
        "Processed_Images_Yes=[]\n",
        "\n",
        "for i in Images_No:\n",
        "  Processed_Images_No.append(Binary_Threshold(i))\n",
        "for i in Images_Yes:\n",
        "  Processed_Images_Yes.append(Binary_Threshold(i))\n",
        "\n",
        "for i in Processed_Images_No:\n",
        "  Features['Entropy'].append(calculate_entropy(i[1]))\n",
        "  Features['Third Moment'].append(calculate_third_moment(i[1]))\n",
        "  Features['Intensity'].append(calculate_intensity(i[1]))\n",
        "  Features['Contrast'].append(calculate_average_contrast(i[1]))\n",
        "  Features['Smoothness'].append(calculate_smoothness(i[1]))\n",
        "  Features['Class'].append(0)\n",
        "\n",
        "for i in Processed_Images_Yes:\n",
        "  Features['Entropy'].append(calculate_entropy(i[1]))\n",
        "  Features['Third Moment'].append(calculate_third_moment(i[1]))\n",
        "  Features['Intensity'].append(calculate_intensity(i[1]))\n",
        "  Features['Contrast'].append(calculate_average_contrast(i[1]))\n",
        "  Features['Smoothness'].append(calculate_smoothness(i[1]))\n",
        "  Features['Class'].append(1)\n",
        "\n",
        "dataset = pd.DataFrame(Features)\n",
        "dataset.to_csv('/content/Features.csv', index=False)"
      ]
    },
    {
      "cell_type": "markdown",
      "metadata": {
        "id": "A0RDsnlateFr"
      },
      "source": [
        "## Train Model"
      ]
    },
    {
      "cell_type": "code",
      "execution_count": 10,
      "metadata": {
        "id": "ooTYd2gmJJDr"
      },
      "outputs": [],
      "source": [
        "X = dataset.drop('Class', axis=1)\n",
        "y = dataset['Class']\n",
        "X_train, X_test, y_train, y_test = train_test_split(X, y, test_size=0.30)"
      ]
    },
    {
      "cell_type": "code",
      "execution_count": 11,
      "metadata": {
        "colab": {
          "base_uri": "https://localhost:8080/",
          "height": 74
        },
        "id": "Vdv-9BmNSVsK",
        "outputId": "9faea459-529d-451a-f334-854b00bc9da7"
      },
      "outputs": [
        {
          "output_type": "execute_result",
          "data": {
            "text/plain": [
              "DecisionTreeClassifier()"
            ],
            "text/html": [
              "<style>#sk-container-id-1 {color: black;background-color: white;}#sk-container-id-1 pre{padding: 0;}#sk-container-id-1 div.sk-toggleable {background-color: white;}#sk-container-id-1 label.sk-toggleable__label {cursor: pointer;display: block;width: 100%;margin-bottom: 0;padding: 0.3em;box-sizing: border-box;text-align: center;}#sk-container-id-1 label.sk-toggleable__label-arrow:before {content: \"▸\";float: left;margin-right: 0.25em;color: #696969;}#sk-container-id-1 label.sk-toggleable__label-arrow:hover:before {color: black;}#sk-container-id-1 div.sk-estimator:hover label.sk-toggleable__label-arrow:before {color: black;}#sk-container-id-1 div.sk-toggleable__content {max-height: 0;max-width: 0;overflow: hidden;text-align: left;background-color: #f0f8ff;}#sk-container-id-1 div.sk-toggleable__content pre {margin: 0.2em;color: black;border-radius: 0.25em;background-color: #f0f8ff;}#sk-container-id-1 input.sk-toggleable__control:checked~div.sk-toggleable__content {max-height: 200px;max-width: 100%;overflow: auto;}#sk-container-id-1 input.sk-toggleable__control:checked~label.sk-toggleable__label-arrow:before {content: \"▾\";}#sk-container-id-1 div.sk-estimator input.sk-toggleable__control:checked~label.sk-toggleable__label {background-color: #d4ebff;}#sk-container-id-1 div.sk-label input.sk-toggleable__control:checked~label.sk-toggleable__label {background-color: #d4ebff;}#sk-container-id-1 input.sk-hidden--visually {border: 0;clip: rect(1px 1px 1px 1px);clip: rect(1px, 1px, 1px, 1px);height: 1px;margin: -1px;overflow: hidden;padding: 0;position: absolute;width: 1px;}#sk-container-id-1 div.sk-estimator {font-family: monospace;background-color: #f0f8ff;border: 1px dotted black;border-radius: 0.25em;box-sizing: border-box;margin-bottom: 0.5em;}#sk-container-id-1 div.sk-estimator:hover {background-color: #d4ebff;}#sk-container-id-1 div.sk-parallel-item::after {content: \"\";width: 100%;border-bottom: 1px solid gray;flex-grow: 1;}#sk-container-id-1 div.sk-label:hover label.sk-toggleable__label {background-color: #d4ebff;}#sk-container-id-1 div.sk-serial::before {content: \"\";position: absolute;border-left: 1px solid gray;box-sizing: border-box;top: 0;bottom: 0;left: 50%;z-index: 0;}#sk-container-id-1 div.sk-serial {display: flex;flex-direction: column;align-items: center;background-color: white;padding-right: 0.2em;padding-left: 0.2em;position: relative;}#sk-container-id-1 div.sk-item {position: relative;z-index: 1;}#sk-container-id-1 div.sk-parallel {display: flex;align-items: stretch;justify-content: center;background-color: white;position: relative;}#sk-container-id-1 div.sk-item::before, #sk-container-id-1 div.sk-parallel-item::before {content: \"\";position: absolute;border-left: 1px solid gray;box-sizing: border-box;top: 0;bottom: 0;left: 50%;z-index: -1;}#sk-container-id-1 div.sk-parallel-item {display: flex;flex-direction: column;z-index: 1;position: relative;background-color: white;}#sk-container-id-1 div.sk-parallel-item:first-child::after {align-self: flex-end;width: 50%;}#sk-container-id-1 div.sk-parallel-item:last-child::after {align-self: flex-start;width: 50%;}#sk-container-id-1 div.sk-parallel-item:only-child::after {width: 0;}#sk-container-id-1 div.sk-dashed-wrapped {border: 1px dashed gray;margin: 0 0.4em 0.5em 0.4em;box-sizing: border-box;padding-bottom: 0.4em;background-color: white;}#sk-container-id-1 div.sk-label label {font-family: monospace;font-weight: bold;display: inline-block;line-height: 1.2em;}#sk-container-id-1 div.sk-label-container {text-align: center;}#sk-container-id-1 div.sk-container {/* jupyter's `normalize.less` sets `[hidden] { display: none; }` but bootstrap.min.css set `[hidden] { display: none !important; }` so we also need the `!important` here to be able to override the default hidden behavior on the sphinx rendered scikit-learn.org. See: https://github.com/scikit-learn/scikit-learn/issues/21755 */display: inline-block !important;position: relative;}#sk-container-id-1 div.sk-text-repr-fallback {display: none;}</style><div id=\"sk-container-id-1\" class=\"sk-top-container\"><div class=\"sk-text-repr-fallback\"><pre>DecisionTreeClassifier()</pre><b>In a Jupyter environment, please rerun this cell to show the HTML representation or trust the notebook. <br />On GitHub, the HTML representation is unable to render, please try loading this page with nbviewer.org.</b></div><div class=\"sk-container\" hidden><div class=\"sk-item\"><div class=\"sk-estimator sk-toggleable\"><input class=\"sk-toggleable__control sk-hidden--visually\" id=\"sk-estimator-id-1\" type=\"checkbox\" checked><label for=\"sk-estimator-id-1\" class=\"sk-toggleable__label sk-toggleable__label-arrow\">DecisionTreeClassifier</label><div class=\"sk-toggleable__content\"><pre>DecisionTreeClassifier()</pre></div></div></div></div></div>"
            ]
          },
          "metadata": {},
          "execution_count": 11
        }
      ],
      "source": [
        "classifier = DecisionTreeClassifier()\n",
        "classifier.fit(X_train, y_train)"
      ]
    },
    {
      "cell_type": "markdown",
      "metadata": {
        "id": "ZQRCGMy2tgz_"
      },
      "source": [
        "## Evaluate Model"
      ]
    },
    {
      "cell_type": "code",
      "execution_count": 18,
      "metadata": {
        "colab": {
          "base_uri": "https://localhost:8080/"
        },
        "id": "4UQSaUr3JUya",
        "outputId": "5195006d-25f8-4d75-f0a5-cfdec28447e8"
      },
      "outputs": [
        {
          "output_type": "stream",
          "name": "stdout",
          "text": [
            "[[15 17]\n",
            " [ 8 36]]\n",
            "Accuracy: 0.6710526315789473\n"
          ]
        }
      ],
      "source": [
        "y_pred = classifier.predict(X_test)\n",
        "print(confusion_matrix(y_test, y_pred))\n",
        "print(\"Accuracy:\",metrics.accuracy_score(y_test, y_pred))"
      ]
    }
  ],
  "metadata": {
    "colab": {
      "collapsed_sections": [
        "7Xdt6Sh4iH9P",
        "x4hGKCCnuobW",
        "r4rmG9M1P3EJ",
        "glqEypOLQu-T",
        "3LIB1C6xvMNa",
        "3ED6CW3sweGA",
        "6qX9iug-iUqF",
        "_XmyrHDkwh-Q",
        "137Gv1RNSovs",
        "A0RDsnlateFr",
        "ZQRCGMy2tgz_"
      ],
      "provenance": [],
      "include_colab_link": true
    },
    "kernelspec": {
      "display_name": "Python 3",
      "name": "python3"
    },
    "language_info": {
      "name": "python",
      "version": "3.11.1"
    }
  },
  "nbformat": 4,
  "nbformat_minor": 0
}