{
  "cells": [
    {
      "cell_type": "markdown",
      "metadata": {
        "id": "7Xdt6Sh4iH9P"
      },
      "source": [
        "## **Libraries**"
      ]
    },
    {
      "cell_type": "code",
      "execution_count": null,
      "metadata": {
        "id": "6zfUVohTiLxK"
      },
      "outputs": [
        {
          "ename": "",
          "evalue": "",
          "output_type": "error",
          "traceback": [
            "\u001b[1;31mRunning cells with 'c:\\Users\\Aliho\\AppData\\Local\\Programs\\Python\\Python311\\python.exe' requires the ipykernel package.\n",
            "\u001b[1;31mRun the following command to install 'ipykernel' into the Python environment. \n",
            "\u001b[1;31mCommand: 'c:/Users/Aliho/AppData/Local/Programs/Python/Python311/python.exe -m pip install ipykernel -U --user --force-reinstall'"
          ]
        }
      ],
      "source": [
        "import os\n",
        "import cv2\n",
        "import math\n",
        "import numpy as np\n",
        "import pandas as pd\n",
        "import matplotlib.pyplot as plt\n",
        "from google.colab.patches import cv2_imshow\n",
        "from google.colab import drive\n",
        "from sklearn.model_selection import train_test_split\n",
        "from sklearn.tree import DecisionTreeClassifier\n",
        "from sklearn.metrics import classification_report, confusion_matrix\n",
        "from sklearn import metrics"
      ]
    },
    {
      "cell_type": "markdown",
      "metadata": {
        "id": "x4hGKCCnuobW"
      },
      "source": [
        "## Calculate Third Moment (Skewness)"
      ]
    },
    {
      "cell_type": "code",
      "execution_count": null,
      "metadata": {
        "id": "cWzPmHV1uQdp"
      },
      "outputs": [
        {
          "ename": "",
          "evalue": "",
          "output_type": "error",
          "traceback": [
            "\u001b[1;31mRunning cells with 'c:\\Users\\Aliho\\AppData\\Local\\Programs\\Python\\Python311\\python.exe' requires the ipykernel package.\n",
            "\u001b[1;31mRun the following command to install 'ipykernel' into the Python environment. \n",
            "\u001b[1;31mCommand: 'c:/Users/Aliho/AppData/Local/Programs/Python/Python311/python.exe -m pip install ipykernel -U --user --force-reinstall'"
          ]
        }
      ],
      "source": [
        "def calculate_third_moment(image):\n",
        "    pixels = np.array(image).flatten()\n",
        "    mean = np.mean(pixels)\n",
        "    std_dev = np.std(pixels)\n",
        "    third_moment = np.mean(((pixels - mean) / std_dev) ** 3)\n",
        "    return third_moment"
      ]
    },
    {
      "cell_type": "markdown",
      "metadata": {
        "id": "r4rmG9M1P3EJ"
      },
      "source": [
        "## Calculate Contrast"
      ]
    },
    {
      "cell_type": "code",
      "execution_count": null,
      "metadata": {
        "id": "c5u0hL5JP88U"
      },
      "outputs": [
        {
          "ename": "",
          "evalue": "",
          "output_type": "error",
          "traceback": [
            "\u001b[1;31mRunning cells with 'c:\\Users\\Aliho\\AppData\\Local\\Programs\\Python\\Python311\\python.exe' requires the ipykernel package.\n",
            "\u001b[1;31mRun the following command to install 'ipykernel' into the Python environment. \n",
            "\u001b[1;31mCommand: 'c:/Users/Aliho/AppData/Local/Programs/Python/Python311/python.exe -m pip install ipykernel -U --user --force-reinstall'"
          ]
        }
      ],
      "source": [
        "def calculate_average_contrast(image):\n",
        "    contrast = np.abs(image - np.mean(image))\n",
        "    average_contrast = np.mean(contrast)\n",
        "    return average_contrast"
      ]
    },
    {
      "cell_type": "markdown",
      "metadata": {
        "id": "glqEypOLQu-T"
      },
      "source": [
        "## Calculate Smoothness"
      ]
    },
    {
      "cell_type": "code",
      "execution_count": null,
      "metadata": {
        "id": "lNXrmwd7Qxm8"
      },
      "outputs": [
        {
          "ename": "",
          "evalue": "",
          "output_type": "error",
          "traceback": [
            "\u001b[1;31mRunning cells with 'c:\\Users\\Aliho\\AppData\\Local\\Programs\\Python\\Python311\\python.exe' requires the ipykernel package.\n",
            "\u001b[1;31mRun the following command to install 'ipykernel' into the Python environment. \n",
            "\u001b[1;31mCommand: 'c:/Users/Aliho/AppData/Local/Programs/Python/Python311/python.exe -m pip install ipykernel -U --user --force-reinstall'"
          ]
        }
      ],
      "source": [
        "def calculate_smoothness(image):\n",
        "    dx = np.abs(np.diff(image, axis=1))\n",
        "    dy = np.abs(np.diff(image, axis=0))\n",
        "    smoothness = (np.mean(dx) + np.mean(dy)) / 2\n",
        "    return smoothness"
      ]
    },
    {
      "cell_type": "markdown",
      "metadata": {
        "id": "3LIB1C6xvMNa"
      },
      "source": [
        "## Calculate Entropy"
      ]
    },
    {
      "cell_type": "code",
      "execution_count": null,
      "metadata": {
        "id": "UQjcakavXoit"
      },
      "outputs": [
        {
          "ename": "",
          "evalue": "",
          "output_type": "error",
          "traceback": [
            "\u001b[1;31mRunning cells with 'c:\\Users\\Aliho\\AppData\\Local\\Programs\\Python\\Python311\\python.exe' requires the ipykernel package.\n",
            "\u001b[1;31mRun the following command to install 'ipykernel' into the Python environment. \n",
            "\u001b[1;31mCommand: 'c:/Users/Aliho/AppData/Local/Programs/Python/Python311/python.exe -m pip install ipykernel -U --user --force-reinstall'"
          ]
        }
      ],
      "source": [
        "def calculate_entropy(image):\n",
        "    histogram=cv2.calcHist([image],[0],None,[256],[0,256])\n",
        "    total_pixels = image.shape[0] * image.shape[1]\n",
        "    entropy = 0\n",
        "    for count in histogram:\n",
        "        probability = count / total_pixels\n",
        "        if probability > 0:\n",
        "            entropy += probability * math.log2(probability)\n",
        "    entropy *= -1\n",
        "    return entropy"
      ]
    },
    {
      "cell_type": "markdown",
      "metadata": {
        "id": "3ED6CW3sweGA"
      },
      "source": [
        "## Calculate Intensity"
      ]
    },
    {
      "cell_type": "code",
      "execution_count": null,
      "metadata": {
        "id": "bNQBWrakwIPe"
      },
      "outputs": [
        {
          "ename": "",
          "evalue": "",
          "output_type": "error",
          "traceback": [
            "\u001b[1;31mRunning cells with 'c:\\Users\\Aliho\\AppData\\Local\\Programs\\Python\\Python311\\python.exe' requires the ipykernel package.\n",
            "\u001b[1;31mRun the following command to install 'ipykernel' into the Python environment. \n",
            "\u001b[1;31mCommand: 'c:/Users/Aliho/AppData/Local/Programs/Python/Python311/python.exe -m pip install ipykernel -U --user --force-reinstall'"
          ]
        }
      ],
      "source": [
        "def calculate_intensity(image):\n",
        "    pixels = np.array(image)\n",
        "    intensity = np.mean(pixels)\n",
        "    return intensity"
      ]
    },
    {
      "cell_type": "markdown",
      "metadata": {
        "id": "6qX9iug-iUqF"
      },
      "source": [
        "## Segmentation"
      ]
    },
    {
      "cell_type": "code",
      "execution_count": null,
      "metadata": {
        "id": "VoTzD7qd9m5s"
      },
      "outputs": [
        {
          "ename": "",
          "evalue": "",
          "output_type": "error",
          "traceback": [
            "\u001b[1;31mRunning cells with 'c:\\Users\\Aliho\\AppData\\Local\\Programs\\Python\\Python311\\python.exe' requires the ipykernel package.\n",
            "\u001b[1;31mRun the following command to install 'ipykernel' into the Python environment. \n",
            "\u001b[1;31mCommand: 'c:/Users/Aliho/AppData/Local/Programs/Python/Python311/python.exe -m pip install ipykernel -U --user --force-reinstall'"
          ]
        }
      ],
      "source": [
        "def Binary_Threshold(image):\n",
        "  image_gray = cv2.cvtColor(image, cv2.COLOR_BGR2GRAY)\n",
        "  B_Threshold=cv2.threshold(image_gray,125,255,cv2.THRESH_BINARY)\n",
        "  return B_Threshold"
      ]
    },
    {
      "cell_type": "markdown",
      "metadata": {
        "id": "_XmyrHDkwh-Q"
      },
      "source": [
        "## Read Images"
      ]
    },
    {
      "cell_type": "code",
      "execution_count": null,
      "metadata": {
        "id": "SdWlaelAWYMX"
      },
      "outputs": [
        {
          "ename": "",
          "evalue": "",
          "output_type": "error",
          "traceback": [
            "\u001b[1;31mRunning cells with 'c:\\Users\\Aliho\\AppData\\Local\\Programs\\Python\\Python311\\python.exe' requires the ipykernel package.\n",
            "\u001b[1;31mRun the following command to install 'ipykernel' into the Python environment. \n",
            "\u001b[1;31mCommand: 'c:/Users/Aliho/AppData/Local/Programs/Python/Python311/python.exe -m pip install ipykernel -U --user --force-reinstall'"
          ]
        }
      ],
      "source": [
        "Images_No_Path = '/content/No'\n",
        "Images_Yes_Path = '/content/Yes'\n",
        "\n",
        "Images_No=[]\n",
        "Images_Yes=[]\n",
        "\n",
        "File_Names= os.listdir(Images_No_Path)\n",
        "for i in File_Names:\n",
        "  Images_No.append(cv2.imread(Images_No_Path+'/'+i))\n",
        "\n",
        "File_Names= os.listdir(Images_Yes_Path)\n",
        "for i in File_Names:\n",
        "  Images_Yes.append(cv2.imread(Images_Yes_Path+'/'+i))"
      ]
    },
    {
      "cell_type": "markdown",
      "metadata": {
        "id": "137Gv1RNSovs"
      },
      "source": [
        "## Store Features"
      ]
    },
    {
      "cell_type": "code",
      "execution_count": null,
      "metadata": {
        "id": "NwaK1UYSStvG"
      },
      "outputs": [
        {
          "ename": "",
          "evalue": "",
          "output_type": "error",
          "traceback": [
            "\u001b[1;31mRunning cells with 'c:\\Users\\Aliho\\AppData\\Local\\Programs\\Python\\Python311\\python.exe' requires the ipykernel package.\n",
            "\u001b[1;31mRun the following command to install 'ipykernel' into the Python environment. \n",
            "\u001b[1;31mCommand: 'c:/Users/Aliho/AppData/Local/Programs/Python/Python311/python.exe -m pip install ipykernel -U --user --force-reinstall'"
          ]
        }
      ],
      "source": [
        "Features={'Entropy':[],\n",
        "         'Third Moment':[],\n",
        "         'Intensity':[],\n",
        "         'Contrast':[],\n",
        "         'Smoothness':[],\n",
        "         'Class':[]} #Yes or No\n",
        "\n",
        "Processed_Images_No=[]\n",
        "Processed_Images_Yes=[]\n",
        "\n",
        "for i in Images_No:\n",
        "  Processed_Images_No.append(Binary_Threshold(i))\n",
        "for i in Images_Yes:\n",
        "  Processed_Images_Yes.append(Binary_Threshold(i))\n",
        "\n",
        "for i in Processed_Images_No:\n",
        "  Features['Entropy'].append(calculate_entropy(i[1]))\n",
        "  Features['Third Moment'].append(calculate_third_moment(i[1]))\n",
        "  Features['Intensity'].append(calculate_intensity(i[1]))\n",
        "  Features['Contrast'].append(calculate_average_contrast(i[1]))\n",
        "  Features['Smoothness'].append(calculate_smoothness(i[1]))\n",
        "  Features['Class'].append(0)\n",
        "\n",
        "for i in Processed_Images_Yes:\n",
        "  Features['Entropy'].append(calculate_entropy(i[1]))\n",
        "  Features['Third Moment'].append(calculate_third_moment(i[1]))\n",
        "  Features['Intensity'].append(calculate_intensity(i[1]))\n",
        "  Features['Contrast'].append(calculate_average_contrast(i[1]))\n",
        "  Features['Smoothness'].append(calculate_smoothness(i[1]))\n",
        "  Features['Class'].append(1)\n",
        "\n",
        "dataset = pd.DataFrame(Features)\n",
        "dataset.to_csv('/content/Features.csv', index=False)"
      ]
    },
    {
      "cell_type": "markdown",
      "metadata": {
        "id": "A0RDsnlateFr"
      },
      "source": [
        "## Train Model"
      ]
    },
    {
      "cell_type": "code",
      "execution_count": null,
      "metadata": {
        "id": "ooTYd2gmJJDr"
      },
      "outputs": [
        {
          "ename": "",
          "evalue": "",
          "output_type": "error",
          "traceback": [
            "\u001b[1;31mRunning cells with 'c:\\Users\\Aliho\\AppData\\Local\\Programs\\Python\\Python311\\python.exe' requires the ipykernel package.\n",
            "\u001b[1;31mRun the following command to install 'ipykernel' into the Python environment. \n",
            "\u001b[1;31mCommand: 'c:/Users/Aliho/AppData/Local/Programs/Python/Python311/python.exe -m pip install ipykernel -U --user --force-reinstall'"
          ]
        }
      ],
      "source": [
        "X = dataset.drop('Class', axis=1)\n",
        "y = dataset['Class']\n",
        "X_train, X_test, y_train, y_test = train_test_split(X, y, test_size=0.30)"
      ]
    },
    {
      "cell_type": "code",
      "execution_count": null,
      "metadata": {
        "colab": {
          "base_uri": "https://localhost:8080/",
          "height": 75
        },
        "id": "Vdv-9BmNSVsK",
        "outputId": "e745f9ad-6f3f-47ec-e078-7519357692ae"
      },
      "outputs": [
        {
          "ename": "",
          "evalue": "",
          "output_type": "error",
          "traceback": [
            "\u001b[1;31mRunning cells with 'c:\\Users\\Aliho\\AppData\\Local\\Programs\\Python\\Python311\\python.exe' requires the ipykernel package.\n",
            "\u001b[1;31mRun the following command to install 'ipykernel' into the Python environment. \n",
            "\u001b[1;31mCommand: 'c:/Users/Aliho/AppData/Local/Programs/Python/Python311/python.exe -m pip install ipykernel -U --user --force-reinstall'"
          ]
        }
      ],
      "source": [
        "classifier = DecisionTreeClassifier()\n",
        "classifier.fit(X_train, y_train)"
      ]
    },
    {
      "cell_type": "markdown",
      "metadata": {
        "id": "ZQRCGMy2tgz_"
      },
      "source": [
        "## Evaluate Model"
      ]
    },
    {
      "cell_type": "code",
      "execution_count": null,
      "metadata": {
        "colab": {
          "base_uri": "https://localhost:8080/"
        },
        "id": "4UQSaUr3JUya",
        "outputId": "45dd0064-f3f7-499b-d2b4-7813660d0d77"
      },
      "outputs": [
        {
          "ename": "",
          "evalue": "",
          "output_type": "error",
          "traceback": [
            "\u001b[1;31mRunning cells with 'c:\\Users\\Aliho\\AppData\\Local\\Programs\\Python\\Python311\\python.exe' requires the ipykernel package.\n",
            "\u001b[1;31mRun the following command to install 'ipykernel' into the Python environment. \n",
            "\u001b[1;31mCommand: 'c:/Users/Aliho/AppData/Local/Programs/Python/Python311/python.exe -m pip install ipykernel -U --user --force-reinstall'"
          ]
        }
      ],
      "source": [
        "y_pred = classifier.predict(X_test)\n",
        "print(confusion_matrix(y_test, y_pred))\n",
        "print(\"Accuracy:\",metrics.accuracy_score(y_test, y_pred))"
      ]
    }
  ],
  "metadata": {
    "colab": {
      "collapsed_sections": [
        "7Xdt6Sh4iH9P",
        "x4hGKCCnuobW",
        "r4rmG9M1P3EJ",
        "glqEypOLQu-T",
        "3LIB1C6xvMNa",
        "3ED6CW3sweGA",
        "6qX9iug-iUqF",
        "_XmyrHDkwh-Q",
        "137Gv1RNSovs",
        "A0RDsnlateFr",
        "ZQRCGMy2tgz_"
      ],
      "provenance": []
    },
    "kernelspec": {
      "display_name": "Python 3",
      "name": "python3"
    },
    "language_info": {
      "name": "python",
      "version": "3.11.1"
    }
  },
  "nbformat": 4,
  "nbformat_minor": 0
}
